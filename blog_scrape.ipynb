{
 "cells": [
  {
   "cell_type": "markdown",
   "metadata": {
    "application/vnd.databricks.v1+cell": {
     "cellMetadata": {},
     "inputWidgets": {},
     "nuid": "c25b04ab-45e2-48fb-b6db-eadc7a783f1b",
     "showTitle": false,
     "title": ""
    }
   },
   "source": [
    "# The Scrape phase\n",
    "The objective here is to scrape some text and other meta-data from popular math blogs"
   ]
  },
  {
   "cell_type": "code",
   "execution_count": 0,
   "metadata": {
    "application/vnd.databricks.v1+cell": {
     "cellMetadata": {},
     "inputWidgets": {},
     "nuid": "8016f3df-aa5a-45d4-96b3-7ec90252f1fd",
     "showTitle": false,
     "title": ""
    }
   },
   "outputs": [],
   "source": [
    "from selenium import webdriver # The workhorse of this operation\n",
    "from time import sleep # so we don't scrape too fast and get kicked out\n",
    "import pandas as pd # for capturing the data in a tabular form\n",
    "import string # for cleaning strings\n",
    "import re # regular expressions for cleaning up some strings"
   ]
  },
  {
   "cell_type": "code",
   "execution_count": 0,
   "metadata": {
    "application/vnd.databricks.v1+cell": {
     "cellMetadata": {},
     "inputWidgets": {},
     "nuid": "13a67782-f1d5-4d1f-9e35-74c1436e4096",
     "showTitle": false,
     "title": ""
    }
   },
   "outputs": [],
   "source": [
    "driver = webdriver.Firefox()\n",
    "driver.get('https://blog.feedspot.com/math_blogs/')"
   ]
  },
  {
   "cell_type": "code",
   "execution_count": 0,
   "metadata": {
    "application/vnd.databricks.v1+cell": {
     "cellMetadata": {
      "byteLimit": 2048000,
      "rowLimit": 10000
     },
     "inputWidgets": {},
     "nuid": "e6d51e72-ad9b-4eee-8aed-cd6940d18588",
     "showTitle": false,
     "title": ""
    }
   },
   "outputs": [],
   "source": [
    "def test_function():\n",
    "    print(\"Test function nar works.\")"
   ]
  },
  {
   "cell_type": "code",
   "execution_count": 0,
   "metadata": {
    "application/vnd.databricks.v1+cell": {
     "cellMetadata": {
      "byteLimit": 2048000,
      "rowLimit": 10000
     },
     "inputWidgets": {},
     "nuid": "1219fe54-cee4-4a1d-a16c-8e85ffb4cb16",
     "showTitle": false,
     "title": ""
    }
   },
   "outputs": [],
   "source": [
    "test_function()"
   ]
  },
  {
   "cell_type": "code",
   "execution_count": 0,
   "metadata": {
    "application/vnd.databricks.v1+cell": {
     "cellMetadata": {},
     "inputWidgets": {},
     "nuid": "9f173645-6ffd-4ec2-b568-2836be8ba5e6",
     "showTitle": false,
     "title": ""
    }
   },
   "outputs": [],
   "source": []
  },
  {
   "cell_type": "code",
   "execution_count": 0,
   "metadata": {
    "application/vnd.databricks.v1+cell": {
     "cellMetadata": {},
     "inputWidgets": {},
     "nuid": "20742ec7-56f6-4c28-8522-6b515e6c1bcc",
     "showTitle": false,
     "title": ""
    }
   },
   "outputs": [],
   "source": []
  },
  {
   "cell_type": "code",
   "execution_count": 0,
   "metadata": {
    "application/vnd.databricks.v1+cell": {
     "cellMetadata": {},
     "inputWidgets": {},
     "nuid": "0f2a1672-f4fc-4cc9-882d-83ffbbe8919c",
     "showTitle": false,
     "title": ""
    }
   },
   "outputs": [],
   "source": []
  },
  {
   "cell_type": "code",
   "execution_count": 0,
   "metadata": {
    "application/vnd.databricks.v1+cell": {
     "cellMetadata": {},
     "inputWidgets": {},
     "nuid": "d85ca260-23b7-46d0-a313-31805ab8497e",
     "showTitle": false,
     "title": ""
    }
   },
   "outputs": [],
   "source": []
  },
  {
   "cell_type": "code",
   "execution_count": 0,
   "metadata": {
    "application/vnd.databricks.v1+cell": {
     "cellMetadata": {},
     "inputWidgets": {},
     "nuid": "ac179d19-b926-45c2-8017-6fc0268826cf",
     "showTitle": false,
     "title": ""
    }
   },
   "outputs": [],
   "source": [
    "bname_selectors = driver.find_elements_by_class_name('tlink')\n",
    "math_selectors = driver.find_elements_by_class_name('ext')\n",
    "text_selectors = driver.find_elements_by_xpath('//p[contains(@class,\"trow trow-wrap\")]')"
   ]
  },
  {
   "cell_type": "code",
   "execution_count": 0,
   "metadata": {
    "application/vnd.databricks.v1+cell": {
     "cellMetadata": {},
     "inputWidgets": {},
     "nuid": "faa3805a-ccf7-489c-9701-cea0d733ee55",
     "showTitle": false,
     "title": ""
    }
   },
   "outputs": [],
   "source": [
    "bnames = [n.text.replace('|','').replace('?',' ').replace('/',' ').replace('-','') for n in bname_selectors]\n",
    "math_urls = [mu.get_attribute(\"href\") for mu in math_selectors]\n",
    "text_ext = [f.text for f in text_selectors]"
   ]
  },
  {
   "cell_type": "code",
   "execution_count": 0,
   "metadata": {
    "application/vnd.databricks.v1+cell": {
     "cellMetadata": {},
     "inputWidgets": {},
     "nuid": "8a19df7e-4b08-43a5-8a83-82c4cf56a762",
     "showTitle": false,
     "title": ""
    }
   },
   "outputs": [],
   "source": [
    "remove_wierd_chars = lambda s: \"\".join(filter(lambda char: char in string.printable, s))\n",
    "def extract_post_rate(s):\n",
    "    post_ind = s.find(' / ')\n",
    "    s1 = s[post_ind-8:post_ind+10]\n",
    "    n_ind = s1.find('\\n')\n",
    "    if n_ind < 5:\n",
    "        s1 = s1[n_ind+1:]\n",
    "        n_ind = s1.find('\\n')\n",
    "        s1 = s1[:n_ind]\n",
    "    else:\n",
    "        s1 = s1[:n_ind]\n",
    "    return s1.strip()"
   ]
  },
  {
   "cell_type": "code",
   "execution_count": 0,
   "metadata": {
    "application/vnd.databricks.v1+cell": {
     "cellMetadata": {},
     "inputWidgets": {},
     "nuid": "931e00ed-a342-4eab-ad06-c9dd4591b9b6",
     "showTitle": false,
     "title": ""
    }
   },
   "outputs": [],
   "source": [
    "clean_text_ext =[remove_wierd_chars(s) for s in text_ext]\n",
    "post_rate_words = [extract_post_rate(cte) for cte in clean_text_ext ]"
   ]
  },
  {
   "cell_type": "code",
   "execution_count": 0,
   "metadata": {
    "application/vnd.databricks.v1+cell": {
     "cellMetadata": {},
     "inputWidgets": {},
     "nuid": "8b5fa300-5cc7-4756-9038-275098bbabb8",
     "showTitle": false,
     "title": ""
    }
   },
   "outputs": [],
   "source": [
    "# Convert post rate into numbers\n",
    "time_dict = {'day': 1,\n",
    "             'week': 7,\n",
    "             'mon': 30,\n",
    "             'quar': 90,\n",
    "             'year': 360} ;\n",
    "def get_daily_post_rate(prw):\n",
    "    if prw=='':\n",
    "        daily_post_rate = 0\n",
    "    else:\n",
    "        digit = int(re.findall(\"\\d\",prw)[0])\n",
    "        time_iterval = re.findall(\"day|week|mon|quar|year\",prw)\n",
    "\n",
    "        num_days = time_dict[time_iterval[0]]\n",
    "        daily_post_rate = digit / num_days\n",
    "    return daily_post_rate"
   ]
  },
  {
   "cell_type": "code",
   "execution_count": 0,
   "metadata": {
    "application/vnd.databricks.v1+cell": {
     "cellMetadata": {},
     "inputWidgets": {},
     "nuid": "8c7838d9-8da5-4782-8947-9801a030279c",
     "showTitle": false,
     "title": ""
    }
   },
   "outputs": [],
   "source": [
    "daily_post_rates = [round(get_daily_post_rate(prw),ndigits=4) for prw in post_rate_words]"
   ]
  },
  {
   "cell_type": "code",
   "execution_count": 0,
   "metadata": {
    "application/vnd.databricks.v1+cell": {
     "cellMetadata": {},
     "inputWidgets": {},
     "nuid": "5a8a3fc9-3359-4ede-a6e7-ce64c7681f07",
     "showTitle": false,
     "title": ""
    }
   },
   "outputs": [],
   "source": [
    "# store the scraped data\n",
    "data_dict = {'blog_name' : bnames,\n",
    "             'blog_url'  : math_urls,\n",
    "             'post_rate_words' : post_rate_words,\n",
    "             'daily_post_rate': daily_post_rates}\n",
    "df = pd.DataFrame(data_dict)\n",
    "df.to_excel('scrape_text\\math_blogs.xlsx')"
   ]
  },
  {
   "cell_type": "code",
   "execution_count": 0,
   "metadata": {
    "application/vnd.databricks.v1+cell": {
     "cellMetadata": {},
     "inputWidgets": {},
     "nuid": "49589aa8-a8d8-49dc-9253-bc8283ec6d02",
     "showTitle": false,
     "title": ""
    }
   },
   "outputs": [],
   "source": [
    "# store the scraped summary text\n",
    "for t in range(len(bnames)):\n",
    "    file2write=open('scrape_text\\\\'+ bnames[t]+\"_desc.txt\",'w')\n",
    "    file2write.write(clean_text_ext[t])\n",
    "    file2write.close() "
   ]
  },
  {
   "cell_type": "code",
   "execution_count": 0,
   "metadata": {
    "application/vnd.databricks.v1+cell": {
     "cellMetadata": {},
     "inputWidgets": {},
     "nuid": "ff7156e2-84af-4d44-b9b2-f54e15da093e",
     "showTitle": false,
     "title": ""
    }
   },
   "outputs": [],
   "source": [
    "df = pd.read_excel('scrape_text\\math_blogs.xlsx') # loading data that you have stored"
   ]
  },
  {
   "cell_type": "markdown",
   "metadata": {
    "application/vnd.databricks.v1+cell": {
     "cellMetadata": {},
     "inputWidgets": {},
     "nuid": "62c7b976-702a-4ea5-a399-c9edb6fd8943",
     "showTitle": false,
     "title": ""
    }
   },
   "source": [
    "## Some preliminary observations/visualizations."
   ]
  },
  {
   "cell_type": "code",
   "execution_count": 0,
   "metadata": {
    "application/vnd.databricks.v1+cell": {
     "cellMetadata": {},
     "inputWidgets": {},
     "nuid": "4799f563-0ba7-4d87-b734-8bd865b1dfa5",
     "showTitle": false,
     "title": ""
    }
   },
   "outputs": [],
   "source": [
    "import matplotlib.pyplot as plt"
   ]
  },
  {
   "cell_type": "code",
   "execution_count": 0,
   "metadata": {
    "application/vnd.databricks.v1+cell": {
     "cellMetadata": {},
     "inputWidgets": {},
     "nuid": "91c61107-1aac-4fe0-8d1f-9bd0479aefa9",
     "showTitle": false,
     "title": ""
    }
   },
   "outputs": [],
   "source": [
    "fig, ax = plt.subplots(nrows=1,ncols=1)\n",
    "ax.set_title(\"Histogram of post rates\");\n",
    "ax.set_xlabel(\"Daily post rate\");\n",
    "ax.set_ylabel(\"Count\");\n",
    "ax.hist(df['daily_post_rate'],label=\"A\",bins=15,histtype=\"step\")"
   ]
  },
  {
   "cell_type": "code",
   "execution_count": 0,
   "metadata": {
    "application/vnd.databricks.v1+cell": {
     "cellMetadata": {},
     "inputWidgets": {},
     "nuid": "c7518e29-b29f-471e-bde3-1b8fb52be9f3",
     "showTitle": false,
     "title": ""
    }
   },
   "outputs": [],
   "source": [
    "fig, ax = plt.subplots(nrows=1,ncols=1)\n",
    "ax.set_title(\"A plot of sorted (asc.) daily post rate\")\n",
    "ax.scatter([i for i in range(75)],sorted(df['daily_post_rate']))\n",
    "ax.set_xticks([])\n",
    "# The flat streatches are due to the nature of our original data, e.g. posts / month etc.\n",
    "# We can clearly see a powerlaw distribution as the most frequent posters distinguish them selves from the herd."
   ]
  },
  {
   "cell_type": "code",
   "execution_count": 0,
   "metadata": {
    "application/vnd.databricks.v1+cell": {
     "cellMetadata": {},
     "inputWidgets": {},
     "nuid": "22151312-70d5-4379-abfe-5a0e38921015",
     "showTitle": false,
     "title": ""
    }
   },
   "outputs": [],
   "source": [
    "import nltk\n",
    "from nltk.tokenize import word_tokenize\n",
    "from nltk.stem import WordNetLemmatizer\n",
    "from collections import Counter"
   ]
  },
  {
   "cell_type": "code",
   "execution_count": 0,
   "metadata": {
    "application/vnd.databricks.v1+cell": {
     "cellMetadata": {},
     "inputWidgets": {},
     "nuid": "a727c703-d657-495c-8f39-e304e54196fa",
     "showTitle": false,
     "title": ""
    }
   },
   "outputs": [],
   "source": [
    "engstopwords = nltk.corpus.stopwords.words('english') \n",
    "wordnet_lemmatizer = WordNetLemmatizer()"
   ]
  },
  {
   "cell_type": "code",
   "execution_count": 0,
   "metadata": {
    "application/vnd.databricks.v1+cell": {
     "cellMetadata": {},
     "inputWidgets": {},
     "nuid": "7f34060a-27af-4615-88aa-775bde039aa0",
     "showTitle": false,
     "title": ""
    }
   },
   "outputs": [],
   "source": [
    "words = word_tokenize(' '.join(bnames))\n",
    "lemmatized = [wordnet_lemmatizer.lemmatize(t.lower()) for t in words if t.lower() not in engstopwords]\n",
    "counter = Counter(lemmatized)\n",
    "most_common_words = counter.most_common(10)\n",
    "w, c = zip(*most_common_words)"
   ]
  },
  {
   "cell_type": "code",
   "execution_count": 0,
   "metadata": {
    "application/vnd.databricks.v1+cell": {
     "cellMetadata": {},
     "inputWidgets": {},
     "nuid": "48cc5718-17c4-4596-b27f-c22e9dc898e3",
     "showTitle": false,
     "title": ""
    }
   },
   "outputs": [],
   "source": [
    "fig, ax = plt.subplots(nrows=1,ncols=1)\n",
    "ax.set_title(\"Most common words in titles (by occurence)\");\n",
    "ax.bar(w, c)\n",
    "plt.xticks(rotation=90);"
   ]
  },
  {
   "cell_type": "markdown",
   "metadata": {
    "application/vnd.databricks.v1+cell": {
     "cellMetadata": {},
     "inputWidgets": {},
     "nuid": "371dd290-70c9-44f5-ae13-bcb94420b9ff",
     "showTitle": false,
     "title": ""
    }
   },
   "source": [
    "# Scrape and Clean:\n",
    "Since my spidermancy is lacking I have to do it somewhat manually. As such I scrape only the first 10 on the list:"
   ]
  },
  {
   "cell_type": "code",
   "execution_count": 0,
   "metadata": {
    "application/vnd.databricks.v1+cell": {
     "cellMetadata": {},
     "inputWidgets": {},
     "nuid": "54aa61b6-a61b-4d1a-9f36-aecb738f6ba4",
     "showTitle": false,
     "title": ""
    }
   },
   "outputs": [],
   "source": [
    "import os\n",
    "from collections import OrderedDict\n",
    "def save_post_links(post_links_list, name):\n",
    "    ds = pd.Series(post_links_list)\n",
    "    filename = 'scrape_text\\{}_post_links.xlsx'.format(name)\n",
    "    ds.to_excel(filename)"
   ]
  },
  {
   "cell_type": "code",
   "execution_count": 0,
   "metadata": {
    "application/vnd.databricks.v1+cell": {
     "cellMetadata": {},
     "inputWidgets": {},
     "nuid": "890986fd-d52b-41d0-a2a1-d40252557f03",
     "showTitle": false,
     "title": ""
    }
   },
   "outputs": [],
   "source": [
    "url = df['blog_url'][0]\n",
    "name = df['blog_name'][0].replace(' ','_')"
   ]
  },
  {
   "cell_type": "markdown",
   "metadata": {
    "application/vnd.databricks.v1+cell": {
     "cellMetadata": {},
     "inputWidgets": {},
     "nuid": "eef6c568-d48a-4a74-add0-1b506e8ce9e9",
     "showTitle": false,
     "title": ""
    }
   },
   "source": [
    "## Scraping 'Stephen Wolfram Blog' "
   ]
  },
  {
   "cell_type": "code",
   "execution_count": 0,
   "metadata": {
    "application/vnd.databricks.v1+cell": {
     "cellMetadata": {},
     "inputWidgets": {},
     "nuid": "aebb26ba-54a5-41ca-a69b-0a986f6aedda",
     "showTitle": false,
     "title": ""
    }
   },
   "outputs": [],
   "source": [
    "driver = webdriver.Firefox()\n",
    "driver.get(df['blog_url'][0])\n",
    "post_links = []\n",
    "for i in range(10):\n",
    "    post_links_selectors = driver.find_elements_by_class_name(\"more-link\")\n",
    "    post_links.append([pls.get_attribute(\"href\")  for pls in post_links_selectors])\n",
    "    try:\n",
    "        driver.find_element_by_id(\"__cookie-consent-button\").click()\n",
    "    except:\n",
    "        0\n",
    "    driver.find_element_by_xpath('//a[contains(@class,\"page-numbers next\")]').click()\n",
    "    sleep(4)"
   ]
  },
  {
   "cell_type": "code",
   "execution_count": 0,
   "metadata": {
    "application/vnd.databricks.v1+cell": {
     "cellMetadata": {},
     "inputWidgets": {},
     "nuid": "01c2ee6e-96a3-4254-9579-1b16cc9d46dd",
     "showTitle": false,
     "title": ""
    }
   },
   "outputs": [],
   "source": [
    "post_links_list = [p for pl in post_links for p in pl]\n",
    "save_post_links(post_links_list, name):\n",
    "os.mkdir(name)\n",
    "driver = webdriver.Firefox()"
   ]
  },
  {
   "cell_type": "code",
   "execution_count": 0,
   "metadata": {
    "application/vnd.databricks.v1+cell": {
     "cellMetadata": {},
     "inputWidgets": {},
     "nuid": "032fd65c-bee5-4663-bd58-8603071a223d",
     "showTitle": false,
     "title": ""
    }
   },
   "outputs": [],
   "source": [
    "# look up the post page and scrape the content\n",
    "for pl in post_links_list[2:]:\n",
    "    try:\n",
    "        driver.get(pl)\n",
    "        sleep(4)\n",
    "        post_content = driver.find_element_by_xpath('//div[@id=\"content\"]').text\n",
    "        post_title = pl.split('/')[-2]\n",
    "\n",
    "        file2write=open(name+'\\\\'+post_title+\".txt\",'w')\n",
    "        file2write.write(remove_wierd_chars(post_content))\n",
    "        file2write.close() \n",
    "    except:\n",
    "        print(pl)"
   ]
  },
  {
   "cell_type": "markdown",
   "metadata": {
    "application/vnd.databricks.v1+cell": {
     "cellMetadata": {},
     "inputWidgets": {},
     "nuid": "d1a7c78d-ecbb-44bd-9339-e45e7916002a",
     "showTitle": false,
     "title": ""
    }
   },
   "source": [
    "## Scrape Math_Only_Math\n",
    "This blog is more a collection of worksheets for elementary (like elementary school) mathematics exercises. As such there is not much in the line of words to scrape."
   ]
  },
  {
   "cell_type": "markdown",
   "metadata": {
    "application/vnd.databricks.v1+cell": {
     "cellMetadata": {},
     "inputWidgets": {},
     "nuid": "8372ff42-fd97-49eb-83ae-5632c21fbf05",
     "showTitle": false,
     "title": ""
    }
   },
   "source": [
    "## Math_with_Bad_Drawings\n",
    "This site use an \"infite\" scroll bar."
   ]
  },
  {
   "cell_type": "code",
   "execution_count": 0,
   "metadata": {
    "application/vnd.databricks.v1+cell": {
     "cellMetadata": {},
     "inputWidgets": {},
     "nuid": "580c6cf9-a242-40b4-b571-c1da3e7664a2",
     "showTitle": false,
     "title": ""
    }
   },
   "outputs": [],
   "source": [
    "url = df['blog_url'][2]\n",
    "name = df['blog_name'][2].replace(' ','_')\n",
    "driver = webdriver.Firefox()\n",
    "driver.get(url)\n",
    "sleep(2)"
   ]
  },
  {
   "cell_type": "code",
   "execution_count": 0,
   "metadata": {
    "application/vnd.databricks.v1+cell": {
     "cellMetadata": {},
     "inputWidgets": {},
     "nuid": "cd0afd4f-8ba6-447c-a2ea-488cee6615e7",
     "showTitle": false,
     "title": ""
    }
   },
   "outputs": [],
   "source": [
    "post_titles  = []\n",
    "post_links = []\n",
    "for i in range(20):\n",
    "#     post_title_selectors= driver.find_elements_by_xpath('//header[@class=\"entry-header\"]')\n",
    "    post_links_selectors= driver.find_elements_by_xpath('//a[@rel=\"bookmark\"]')\n",
    "    \n",
    "    post_links_temp = [pls.get_attribute(\"href\")  for pls in post_links_selectors]\n",
    "    post_links.extend(post_links_temp)\n",
    "#     post_titles.extend([pls.text for pls in post_title_selectors])\n",
    "    sleep(3)\n",
    "    driver.execute_script(\"window.scrollTo(0, document.body.scrollHeight)\")\n",
    "    sleep(1)\n",
    "    driver.execute_script(\"window.scrollTo(0, document.body.scrollHeight)\")"
   ]
  },
  {
   "cell_type": "code",
   "execution_count": 0,
   "metadata": {
    "application/vnd.databricks.v1+cell": {
     "cellMetadata": {},
     "inputWidgets": {},
     "nuid": "58e7deb1-9cc8-4206-8cba-04c8abac9d5e",
     "showTitle": false,
     "title": ""
    }
   },
   "outputs": [],
   "source": [
    "post_links = list(OrderedDict.fromkeys(post_links))\n",
    "save_post_links(post_links, name)\n",
    "os.mkdir(name)"
   ]
  },
  {
   "cell_type": "code",
   "execution_count": 0,
   "metadata": {
    "application/vnd.databricks.v1+cell": {
     "cellMetadata": {},
     "inputWidgets": {},
     "nuid": "0a3c17aa-9629-467d-89da-003848d08ce5",
     "showTitle": false,
     "title": ""
    }
   },
   "outputs": [],
   "source": [
    "for pl in post_links[1:]:\n",
    "    sleep(3)\n",
    "    try:\n",
    "        driver.get(pl)\n",
    "    #     post_content = driver.find_element_by_xpath('//div[@class,\"entry-content\"]').text\n",
    "        post_content = driver.find_element_by_class_name(\"entry-content\").text\n",
    "        post_title = pl.split('/')[-2]\n",
    "\n",
    "        file2write=open(name+'\\\\'+post_title+\".txt\",'w')\n",
    "        file2write.write(remove_wierd_chars(post_content))\n",
    "        file2write.close() \n",
    "    except:\n",
    "        print(pl)"
   ]
  },
  {
   "cell_type": "markdown",
   "metadata": {
    "application/vnd.databricks.v1+cell": {
     "cellMetadata": {},
     "inputWidgets": {},
     "nuid": "38d7b911-bae2-4839-bd44-e319f578384c",
     "showTitle": false,
     "title": ""
    }
   },
   "source": [
    "## \"What's_new\""
   ]
  },
  {
   "cell_type": "code",
   "execution_count": 0,
   "metadata": {
    "application/vnd.databricks.v1+cell": {
     "cellMetadata": {},
     "inputWidgets": {},
     "nuid": "970dbb64-d780-4491-88c3-77773a017814",
     "showTitle": false,
     "title": ""
    }
   },
   "outputs": [],
   "source": [
    "url = df['blog_url'][3]\n",
    "name = df['blog_name'][3].replace(' ','_')\n",
    "driver = webdriver.Firefox()\n",
    "driver.get(url)\n",
    "sleep(2)"
   ]
  },
  {
   "cell_type": "code",
   "execution_count": 0,
   "metadata": {
    "application/vnd.databricks.v1+cell": {
     "cellMetadata": {},
     "inputWidgets": {},
     "nuid": "86b3f6ec-1075-4af8-801e-1617e46b9797",
     "showTitle": false,
     "title": ""
    }
   },
   "outputs": [],
   "source": [
    "post_links = []\n",
    "for i in range(10):\n",
    "    post_header_selectors = driver.find_elements_by_xpath('//h2[@class=\"post-title\"]//a')\n",
    "    post_links.extend([phs.get_attribute('href') for phs in post_header_selectors])\n",
    "    sleep(3)\n",
    "    driver.execute_script(\"window.scrollTo(0, document.body.scrollHeight)\")\n",
    "    driver.execute_script(\"window.scrollTo(0, document.body.scrollHeight)\")\n",
    "    sleep(3)\n",
    "    driver.execute_script(\"window.scrollTo(0, document.body.scrollHeight)\") \n",
    "    try:\n",
    "        driver.find_element_by_id(\"infinite-handle\").find_element_by_xpath('//button').click()\n",
    "    except:\n",
    "        0"
   ]
  },
  {
   "cell_type": "code",
   "execution_count": 0,
   "metadata": {
    "application/vnd.databricks.v1+cell": {
     "cellMetadata": {},
     "inputWidgets": {},
     "nuid": "cfabac8c-4be2-4d40-b591-76a764a56341",
     "showTitle": false,
     "title": ""
    }
   },
   "outputs": [],
   "source": [
    "post_links = list(OrderedDict.fromkeys(post_links))\n",
    "save_post_links(post_links, name)\n",
    "os.mkdir(name)"
   ]
  },
  {
   "cell_type": "code",
   "execution_count": 0,
   "metadata": {
    "application/vnd.databricks.v1+cell": {
     "cellMetadata": {},
     "inputWidgets": {},
     "nuid": "cab8082f-0d9e-438e-8f47-a2f4cc9e9c1d",
     "showTitle": false,
     "title": ""
    }
   },
   "outputs": [],
   "source": [
    "for pl in post_links[10:]:\n",
    "    sleep(3)\n",
    "    try:\n",
    "        driver.get(pl)\n",
    "        post_content = driver.find_element_by_class_name(\"post-content\" ).text\n",
    "        post_title = pl.split('/')[-2]\n",
    "\n",
    "        file2write=open(name+'\\\\'+post_title+\".txt\",'w')\n",
    "        file2write.write(remove_wierd_chars(post_content))\n",
    "        file2write.close()\n",
    "    except:\n",
    "        print(pl)"
   ]
  },
  {
   "cell_type": "markdown",
   "metadata": {
    "application/vnd.databricks.v1+cell": {
     "cellMetadata": {},
     "inputWidgets": {},
     "nuid": "ba1878dc-dc90-4da4-b14c-52e541b439b4",
     "showTitle": false,
     "title": ""
    }
   },
   "source": [
    "# Text analysis"
   ]
  },
  {
   "cell_type": "code",
   "execution_count": 0,
   "metadata": {
    "application/vnd.databricks.v1+cell": {
     "cellMetadata": {},
     "inputWidgets": {},
     "nuid": "fb26bb58-7b22-4ddf-bf22-f8c5c5ce4e19",
     "showTitle": false,
     "title": ""
    }
   },
   "outputs": [],
   "source": [
    "import nltk\n",
    "from nltk.tokenize import word_tokenize\n",
    "from nltk.tokenize import sent_tokenize\n",
    "from nltk.stem import WordNetLemmatizer\n",
    "from collections import Counter\n",
    "\n",
    "import os"
   ]
  },
  {
   "cell_type": "code",
   "execution_count": 0,
   "metadata": {
    "application/vnd.databricks.v1+cell": {
     "cellMetadata": {},
     "inputWidgets": {},
     "nuid": "2f957eb9-c6a2-4474-8728-9abedbd7d5f7",
     "showTitle": false,
     "title": ""
    }
   },
   "outputs": [],
   "source": [
    "def read_post(file):\n",
    "    with open(file_dir+file) as f:\n",
    "        lines = f.readlines()\n",
    "        return ' '.join(lines).replace('\\n','')\n",
    "def get_number_of_chars(files):\n",
    "    return [len(read_post(f)) for f in files]  \n",
    "def get_number_of_words(files):\n",
    "    return [len([t for t in word_tokenize(read_post(f)) if (t.lower() not in engstopwords) and (len(t) > 1 )]) for f in files ]"
   ]
  },
  {
   "cell_type": "code",
   "execution_count": 0,
   "metadata": {
    "application/vnd.databricks.v1+cell": {
     "cellMetadata": {},
     "inputWidgets": {},
     "nuid": "4ceccd7a-9c0c-444e-8980-458afa49f2c9",
     "showTitle": false,
     "title": ""
    }
   },
   "outputs": [],
   "source": [
    "file_dir = 'scrape_text\\\\Stephen_Wolfram_Blog\\\\'\n",
    "files = os.listdir(file_dir);\n",
    "number_of_chars = get_number_of_chars(files)\n",
    "number_of_words = get_number_of_words(files)"
   ]
  },
  {
   "cell_type": "code",
   "execution_count": 0,
   "metadata": {
    "application/vnd.databricks.v1+cell": {
     "cellMetadata": {},
     "inputWidgets": {},
     "nuid": "d52329c0-587c-4c7f-9bf2-ba4ab2af0b9c",
     "showTitle": false,
     "title": ""
    }
   },
   "outputs": [],
   "source": [
    "def make_hist_post_len(char_lens,s):\n",
    "    fig, ax = plt.subplots(nrows=1,ncols=1)\n",
    "    ax.set_title(\"Histogram of post lengths ({})\".format(s));\n",
    "    ax.set_xlabel(\"Number of {} per post\".format(s));\n",
    "    ax.set_ylabel(\"Count\");\n",
    "    ax.hist(char_lens,label=\"A\",bins=20,histtype=\"step\")"
   ]
  },
  {
   "cell_type": "code",
   "execution_count": 0,
   "metadata": {
    "application/vnd.databricks.v1+cell": {
     "cellMetadata": {},
     "inputWidgets": {},
     "nuid": "1114c511-9531-42c7-939c-57c623dde80b",
     "showTitle": false,
     "title": ""
    }
   },
   "outputs": [],
   "source": [
    "make_hist_post_len(char_lens,'characters')"
   ]
  },
  {
   "cell_type": "code",
   "execution_count": 0,
   "metadata": {
    "application/vnd.databricks.v1+cell": {
     "cellMetadata": {},
     "inputWidgets": {},
     "nuid": "854a1b72-afdc-4a89-bd77-3b2babed156c",
     "showTitle": false,
     "title": ""
    }
   },
   "outputs": [],
   "source": [
    "make_hist_post_len(number_of_words,'words')"
   ]
  },
  {
   "cell_type": "code",
   "execution_count": 0,
   "metadata": {
    "application/vnd.databricks.v1+cell": {
     "cellMetadata": {},
     "inputWidgets": {},
     "nuid": "cacc8c99-f262-4fde-b589-808b68ffdba9",
     "showTitle": false,
     "title": ""
    }
   },
   "outputs": [],
   "source": [
    "from wordcloud import WordCloud"
   ]
  },
  {
   "cell_type": "code",
   "execution_count": 0,
   "metadata": {
    "application/vnd.databricks.v1+cell": {
     "cellMetadata": {},
     "inputWidgets": {},
     "nuid": "1114b5b1-5f77-426f-9b0a-9304e9d97709",
     "showTitle": false,
     "title": ""
    }
   },
   "outputs": [],
   "source": [
    " with open('scrape_text//rand.txt','r',encoding='utf-8-sig') as f:\n",
    "        lines = f.readlines()\n",
    "        text_m = ' '.join(lines).replace('\\n','')"
   ]
  },
  {
   "cell_type": "code",
   "execution_count": 0,
   "metadata": {
    "application/vnd.databricks.v1+cell": {
     "cellMetadata": {},
     "inputWidgets": {},
     "nuid": "591fc905-3ce9-4ac8-84fd-e96c368b68ae",
     "showTitle": false,
     "title": ""
    }
   },
   "outputs": [],
   "source": [
    "words = word_tokenize(text_m)\n",
    "lemmatized = [wordnet_lemmatizer.lemmatize(t.lower()) for t in words if (t.lower() not in engstopwords) and (len(t) > 1)]"
   ]
  },
  {
   "cell_type": "code",
   "execution_count": 0,
   "metadata": {
    "application/vnd.databricks.v1+cell": {
     "cellMetadata": {},
     "inputWidgets": {},
     "nuid": "ffac860d-bdd1-4919-938f-afa85a949afc",
     "showTitle": false,
     "title": ""
    }
   },
   "outputs": [],
   "source": [
    "fig, axes = plt.subplots(1, 1)\n",
    "\n",
    "text = ' '.join(lemmatized)\n",
    "x, y = np.ogrid[:300, :300]\n",
    "mask = (x - 150) ** 2 + (y - 150) ** 2 > 130 ** 2\n",
    "mask = 255 * mask.astype(int)\n",
    "\n",
    "wc = WordCloud(background_color=\"black\",\n",
    "               repeat=True,\n",
    "               mask=mask)\n",
    "wc.generate(text)\n",
    "\n",
    "plt.axis(\"off\")\n",
    "plt.imshow(wc, interpolation=\"bilinear\")\n",
    "plt.show()\n",
    "fig.savefig('word cloud.jpg', bbox_inches='tight', dpi=250)"
   ]
  }
 ],
 "metadata": {
  "application/vnd.databricks.v1+notebook": {
   "dashboards": [],
   "language": "python",
   "notebookMetadata": {
    "pythonIndentUnit": 4
   },
   "notebookName": "blog_scrape",
   "widgets": {}
  },
  "kernelspec": {
   "display_name": "Python 3 (ipykernel)",
   "language": "python",
   "name": "python3"
  },
  "language_info": {
   "codemirror_mode": {
    "name": "ipython",
    "version": 3
   },
   "file_extension": ".py",
   "mimetype": "text/x-python",
   "name": "python",
   "nbconvert_exporter": "python",
   "pygments_lexer": "ipython3",
   "version": "3.8.13"
  }
 },
 "nbformat": 4,
 "nbformat_minor": 0
}
