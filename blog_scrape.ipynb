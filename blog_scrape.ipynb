{
 "cells": [
  {
   "cell_type": "markdown",
   "id": "d80c4691",
   "metadata": {},
   "source": [
    "# The Scrape phase\n",
    "The objective here is to scrape some text and other meta-data from popular math blogs"
   ]
  },
  {
   "cell_type": "code",
   "execution_count": 62,
   "id": "49680e2e",
   "metadata": {},
   "outputs": [],
   "source": [
    "from selenium import webdriver # The workhorse of this operation\n",
    "from time import sleep # so we don't scrape too fast and get kicked out\n",
    "import pandas as pd # for capturing the data in a tabular form\n",
    "import string # for cleaning strings\n",
    "import re # regular expressions for cleaning up some strings"
   ]
  },
  {
   "cell_type": "code",
   "execution_count": 70,
   "id": "a44348be",
   "metadata": {},
   "outputs": [],
   "source": [
    "driver = webdriver.Firefox()\n",
    "driver.get('https://blog.feedspot.com/math_blogs/')"
   ]
  },
  {
   "cell_type": "code",
   "execution_count": 71,
   "id": "c6c55cf7",
   "metadata": {},
   "outputs": [
    {
     "name": "stderr",
     "output_type": "stream",
     "text": [
      "C:\\Users\\jandr\\AppData\\Local\\Temp\\ipykernel_9964\\2959574263.py:1: DeprecationWarning: find_elements_by_class_name is deprecated. Please use find_elements(by=By.CLASS_NAME, value=name) instead\n",
      "  bname_selectors = driver.find_elements_by_class_name('tlink')\n",
      "C:\\Users\\jandr\\AppData\\Local\\Temp\\ipykernel_9964\\2959574263.py:2: DeprecationWarning: find_elements_by_class_name is deprecated. Please use find_elements(by=By.CLASS_NAME, value=name) instead\n",
      "  math_selectors = driver.find_elements_by_class_name('ext')\n",
      "C:\\Users\\jandr\\AppData\\Local\\Temp\\ipykernel_9964\\2959574263.py:3: DeprecationWarning: find_elements_by_xpath is deprecated. Please use find_elements(by=By.XPATH, value=xpath) instead\n",
      "  text_selectors = driver.find_elements_by_xpath('//p[contains(@class,\"trow trow-wrap\")]')\n"
     ]
    }
   ],
   "source": [
    "bname_selectors = driver.find_elements_by_class_name('tlink')\n",
    "math_selectors = driver.find_elements_by_class_name('ext')\n",
    "text_selectors = driver.find_elements_by_xpath('//p[contains(@class,\"trow trow-wrap\")]')"
   ]
  },
  {
   "cell_type": "code",
   "execution_count": 72,
   "id": "0b0ae030",
   "metadata": {},
   "outputs": [],
   "source": [
    "bnames = [n.text.replace('|','').replace('?',' ').replace('/',' ').replace('-','') for n in bname_selectors]\n",
    "math_urls = [mu.get_attribute(\"href\") for mu in math_selectors]\n",
    "text_ext = [f.text for f in text_selectors]"
   ]
  },
  {
   "cell_type": "code",
   "execution_count": 5,
   "id": "d31f6cdf",
   "metadata": {},
   "outputs": [],
   "source": [
    "remove_wierd_chars = lambda s: \"\".join(filter(lambda char: char in string.printable, s))\n",
    "def extract_post_rate(s):\n",
    "    post_ind = s.find(' / ')\n",
    "    s1 = s[post_ind-8:post_ind+10]\n",
    "    n_ind = s1.find('\\n')\n",
    "    if n_ind < 5:\n",
    "        s1 = s1[n_ind+1:]\n",
    "        n_ind = s1.find('\\n')\n",
    "        s1 = s1[:n_ind]\n",
    "    else:\n",
    "        s1 = s1[:n_ind]\n",
    "    return s1.strip()"
   ]
  },
  {
   "cell_type": "code",
   "execution_count": 6,
   "id": "660348a0",
   "metadata": {},
   "outputs": [],
   "source": [
    "clean_text_ext =[remove_wierd_chars(s) for s in text_ext]\n",
    "post_rate_words = [extract_post_rate(cte) for cte in clean_text_ext ]"
   ]
  },
  {
   "cell_type": "code",
   "execution_count": 7,
   "id": "5790d105",
   "metadata": {},
   "outputs": [],
   "source": [
    "# Convert post rate into numbers\n",
    "time_dict = {'day': 1,\n",
    "             'week': 7,\n",
    "             'mon': 30,\n",
    "             'quar': 90,\n",
    "             'year': 360} ;\n",
    "def get_daily_post_rate(prw):\n",
    "    if prw=='':\n",
    "        daily_post_rate = 0\n",
    "    else:\n",
    "        digit = int(re.findall(\"\\d\",prw)[0])\n",
    "        time_iterval = re.findall(\"day|week|mon|quar|year\",prw)\n",
    "\n",
    "        num_days = time_dict[time_iterval[0]]\n",
    "        daily_post_rate = digit / num_days\n",
    "    return daily_post_rate"
   ]
  },
  {
   "cell_type": "code",
   "execution_count": 8,
   "id": "1e32b68d",
   "metadata": {},
   "outputs": [],
   "source": [
    "daily_post_rates = [round(get_daily_post_rate(prw),ndigits=4) for prw in post_rate_words]"
   ]
  },
  {
   "cell_type": "code",
   "execution_count": 9,
   "id": "ec22cd3c",
   "metadata": {},
   "outputs": [],
   "source": [
    "# store the scraped data\n",
    "data_dict = {'blog_name' : bnames,\n",
    "             'blog_url'  : math_urls,\n",
    "             'post_rate_words' : post_rate_words,\n",
    "             'daily_post_rate': daily_post_rates}\n",
    "df = pd.DataFrame(data_dict)\n",
    "df.to_excel('scrape_text\\math_blogs.xlsx')"
   ]
  },
  {
   "cell_type": "code",
   "execution_count": 31,
   "id": "40041cdd",
   "metadata": {},
   "outputs": [],
   "source": [
    "# store the scraped summary text\n",
    "for t in range(len(bnames)):\n",
    "    file2write=open('scrape_text\\\\'+ bnames[t]+\"_desc.txt\",'w')\n",
    "    file2write.write(clean_text_ext[t])\n",
    "    file2write.close() "
   ]
  },
  {
   "cell_type": "code",
   "execution_count": 63,
   "id": "a0c281c3",
   "metadata": {},
   "outputs": [],
   "source": [
    "df = pd.read_excel('scrape_text\\math_blogs.xlsx') # loading data that you have stored"
   ]
  },
  {
   "cell_type": "markdown",
   "id": "3006bbe3",
   "metadata": {},
   "source": [
    "## Some preliminary observations/visualizations."
   ]
  },
  {
   "cell_type": "code",
   "execution_count": 36,
   "id": "31727d1e",
   "metadata": {},
   "outputs": [],
   "source": [
    "import matplotlib.pyplot as plt"
   ]
  },
  {
   "cell_type": "code",
   "execution_count": 147,
   "id": "f894f5db",
   "metadata": {},
   "outputs": [
    {
     "data": {
      "text/plain": [
       "(array([34., 10., 18.,  0.,  5.,  0.,  4.,  0.,  1.,  0.,  0.,  0.,  0.,\n",
       "         0.,  3.]),\n",
       " array([0.        , 0.06666667, 0.13333333, 0.2       , 0.26666667,\n",
       "        0.33333333, 0.4       , 0.46666667, 0.53333333, 0.6       ,\n",
       "        0.66666667, 0.73333333, 0.8       , 0.86666667, 0.93333333,\n",
       "        1.        ]),\n",
       " [<matplotlib.patches.Polygon at 0x1bb761eb3a0>])"
      ]
     },
     "execution_count": 147,
     "metadata": {},
     "output_type": "execute_result"
    },
    {
     "data": {
      "image/png": "[encoded data removed]",
      "text/plain": [
       "<Figure size 432x288 with 1 Axes>"
      ]
     },
     "metadata": {
      "needs_background": "light"
     },
     "output_type": "display_data"
    }
   ],
   "source": [
    "fig, ax = plt.subplots(nrows=1,ncols=1)\n",
    "ax.set_title(\"Histogram of post rates\");\n",
    "ax.set_xlabel(\"Daily post rate\");\n",
    "ax.set_ylabel(\"Count\");\n",
    "ax.hist(df['daily_post_rate'],label=\"A\",bins=15,histtype=\"step\")"
   ]
  },
  {
   "cell_type": "code",
   "execution_count": 64,
   "id": "35e66bcb",
   "metadata": {},
   "outputs": [
    {
     "data": {
      "text/plain": [
       "[]"
      ]
     },
     "execution_count": 64,
     "metadata": {},
     "output_type": "execute_result"
    },
    {
     "data": {
      "image/png": "[encoded data removed]",
      "text/plain": [
       "<Figure size 432x288 with 1 Axes>"
      ]
     },
     "metadata": {
      "needs_background": "light"
     },
     "output_type": "display_data"
    }
   ],
   "source": [
    "fig, ax = plt.subplots(nrows=1,ncols=1)\n",
    "ax.set_title(\"A plot of sorted (asc.) daily post rate\")\n",
    "ax.scatter([i for i in range(75)],sorted(df['daily_post_rate']))\n",
    "ax.set_xticks([])\n",
    "# The flat streatches are due to the nature of our original data, e.g. posts / month etc.\n",
    "# We can clearly see a powerlaw distribution as the most frequent posters distinguish them selves from the herd."
   ]
  },
  {
   "cell_type": "code",
   "execution_count": 104,
   "id": "02a0cd48",
   "metadata": {},
   "outputs": [],
   "source": [
    "import nltk\n",
    "from nltk.tokenize import word_tokenize\n",
    "from nltk.stem import WordNetLemmatizer\n",
    "from collections import Counter"
   ]
  },
  {
   "cell_type": "code",
   "execution_count": 47,
   "id": "20358a87",
   "metadata": {},
   "outputs": [],
   "source": [
    "engstopwords = nltk.corpus.stopwords.words('english') \n",
    "wordnet_lemmatizer = WordNetLemmatizer()"
   ]
  },
  {
   "cell_type": "code",
   "execution_count": 111,
   "id": "941e65ff",
   "metadata": {},
   "outputs": [],
   "source": [
    "words = word_tokenize(' '.join(bnames))\n",
    "lemmatized = [wordnet_lemmatizer.lemmatize(t.lower()) for t in words if t.lower() not in engstopwords]\n",
    "counter = Counter(lemmatized)\n",
    "most_common_words = counter.most_common(10)\n",
    "w, c = zip(*most_common_words)"
   ]
  },
  {
   "cell_type": "code",
   "execution_count": 113,
   "id": "a4abbd2d",
   "metadata": {},
   "outputs": [
    {
     "data": {
      "image/png": "[encoded data removed]",
      "text/plain": [
       "<Figure size 432x288 with 1 Axes>"
      ]
     },
     "metadata": {
      "needs_background": "light"
     },
     "output_type": "display_data"
    }
   ],
   "source": [
    "fig, ax = plt.subplots(nrows=1,ncols=1)\n",
    "ax.set_title(\"Most common words in titles (by occurence)\");\n",
    "ax.bar(w, c)\n",
    "plt.xticks(rotation=90);"
   ]
  },
  {
   "cell_type": "markdown",
   "id": "39dd3141",
   "metadata": {},
   "source": [
    "# Scrape and Clean:\n",
    "Since my spidermancy is lacking I have to do it somewhat manually. As such I scrape only the first 10 on the list:"
   ]
  },
  {
   "cell_type": "code",
   "execution_count": 239,
   "id": "4c04ffa2",
   "metadata": {},
   "outputs": [],
   "source": [
    "import os\n",
    "from collections import OrderedDict\n",
    "def save_post_links(post_links_list, name):\n",
    "    ds = pd.Series(post_links_list)\n",
    "    filename = 'scrape_text\\{}_post_links.xlsx'.format(name)\n",
    "    ds.to_excel(filename)"
   ]
  },
  {
   "cell_type": "code",
   "execution_count": 129,
   "id": "a808f50f",
   "metadata": {},
   "outputs": [],
   "source": [
    "url = df['blog_url'][0]\n",
    "name = df['blog_name'][0].replace(' ','_')"
   ]
  },
  {
   "cell_type": "markdown",
   "id": "298e2072",
   "metadata": {},
   "source": [
    "## Scraping 'Stephen Wolfram Blog' "
   ]
  },
  {
   "cell_type": "code",
   "execution_count": 120,
   "id": "3c82fdb0",
   "metadata": {},
   "outputs": [],
   "source": [
    "driver = webdriver.Firefox()\n",
    "driver.get(df['blog_url'][0])\n",
    "post_links = []\n",
    "for i in range(10):\n",
    "    post_links_selectors = driver.find_elements_by_class_name(\"more-link\")\n",
    "    post_links.append([pls.get_attribute(\"href\")  for pls in post_links_selectors])\n",
    "    try:\n",
    "        driver.find_element_by_id(\"__cookie-consent-button\").click()\n",
    "    except:\n",
    "        0\n",
    "    driver.find_element_by_xpath('//a[contains(@class,\"page-numbers next\")]').click()\n",
    "    sleep(4)"
   ]
  },
  {
   "cell_type": "code",
   "execution_count": 121,
   "id": "cdedc4a5",
   "metadata": {},
   "outputs": [
    {
     "name": "stderr",
     "output_type": "stream",
     "text": [
      "C:\\Users\\jandr\\AppData\\Local\\Temp\\ipykernel_9964\\1711115682.py:4: DeprecationWarning: find_elements_by_class_name is deprecated. Please use find_elements(by=By.CLASS_NAME, value=name) instead\n",
      "  post_links_selectors = driver.find_elements_by_class_name(\"more-link\")\n",
      "C:\\Users\\jandr\\AppData\\Local\\Temp\\ipykernel_9964\\1711115682.py:7: DeprecationWarning: find_element_by_* commands are deprecated. Please use find_element() instead\n",
      "  driver.find_element_by_id(\"__cookie-consent-button\").click()\n",
      "C:\\Users\\jandr\\AppData\\Local\\Temp\\ipykernel_9964\\1711115682.py:10: DeprecationWarning: find_element_by_xpath is deprecated. Please use find_element(by=By.XPATH, value=xpath) instead\n",
      "  driver.find_element_by_xpath('//a[contains(@class,\"page-numbers next\")]').click()\n"
     ]
    }
   ],
   "source": [
    "post_links_list = [p for pl in post_links for p in pl]\n",
    "save_post_links(post_links_list, name):\n",
    "os.mkdir(name)\n",
    "driver = webdriver.Firefox()"
   ]
  },
  {
   "cell_type": "code",
   "execution_count": 122,
   "id": "f8937c21",
   "metadata": {},
   "outputs": [],
   "source": [
    "# look up the post page and scrape the content\n",
    "for pl in post_links_list[2:]:\n",
    "    try:\n",
    "        driver.get(pl)\n",
    "        sleep(4)\n",
    "        post_content = driver.find_element_by_xpath('//div[@id=\"content\"]').text\n",
    "        post_title = pl.split('/')[-2]\n",
    "\n",
    "        file2write=open(name+'\\\\'+post_title+\".txt\",'w')\n",
    "        file2write.write(remove_wierd_chars(post_content))\n",
    "        file2write.close() \n",
    "    except:\n",
    "        print(pl)"
   ]
  },
  {
   "cell_type": "markdown",
   "id": "03b31138",
   "metadata": {},
   "source": [
    "## Scrape Math_Only_Math\n",
    "This blog is more a collection of worksheets for elementary (like elementary school) mathematics exercises. As such there is not much in the line of words to scrape."
   ]
  },
  {
   "cell_type": "markdown",
   "id": "2d4cad74",
   "metadata": {},
   "source": [
    "## Math_with_Bad_Drawings\n",
    "This site use an \"infite\" scroll bar."
   ]
  },
  {
   "cell_type": "code",
   "execution_count": 260,
   "id": "0ad500e3",
   "metadata": {},
   "outputs": [],
   "source": [
    "url = df['blog_url'][2]\n",
    "name = df['blog_name'][2].replace(' ','_')\n",
    "driver = webdriver.Firefox()\n",
    "driver.get(url)\n",
    "sleep(2)"
   ]
  },
  {
   "cell_type": "code",
   "execution_count": 261,
   "id": "7a798585",
   "metadata": {},
   "outputs": [
    {
     "name": "stderr",
     "output_type": "stream",
     "text": [
      "C:\\Users\\jandr\\AppData\\Local\\Temp\\ipykernel_9964\\4284507339.py:5: DeprecationWarning: find_elements_by_xpath is deprecated. Please use find_elements(by=By.XPATH, value=xpath) instead\n",
      "  post_links_selectors= driver.find_elements_by_xpath('//a[@rel=\"bookmark\"]')\n"
     ]
    }
   ],
   "source": [
    "post_titles  = []\n",
    "post_links = []\n",
    "for i in range(20):\n",
    "#     post_title_selectors= driver.find_elements_by_xpath('//header[@class=\"entry-header\"]')\n",
    "    post_links_selectors= driver.find_elements_by_xpath('//a[@rel=\"bookmark\"]')\n",
    "    \n",
    "    post_links_temp = [pls.get_attribute(\"href\")  for pls in post_links_selectors]\n",
    "    post_links.extend(post_links_temp)\n",
    "#     post_titles.extend([pls.text for pls in post_title_selectors])\n",
    "    sleep(3)\n",
    "    driver.execute_script(\"window.scrollTo(0, document.body.scrollHeight)\")\n",
    "    sleep(1)\n",
    "    driver.execute_script(\"window.scrollTo(0, document.body.scrollHeight)\")"
   ]
  },
  {
   "cell_type": "code",
   "execution_count": 262,
   "id": "19f9ce09",
   "metadata": {},
   "outputs": [
    {
     "data": {
      "text/plain": [
       "140"
      ]
     },
     "execution_count": 262,
     "metadata": {},
     "output_type": "execute_result"
    }
   ],
   "source": [
    "post_links = list(OrderedDict.fromkeys(post_links))\n",
    "save_post_links(post_links, name)\n",
    "os.mkdir(name)"
   ]
  },
  {
   "cell_type": "code",
   "execution_count": 276,
   "id": "47a6508c",
   "metadata": {},
   "outputs": [
    {
     "name": "stderr",
     "output_type": "stream",
     "text": [
      "C:\\Users\\jandr\\AppData\\Local\\Temp\\ipykernel_9964\\495244311.py:6: DeprecationWarning: find_element_by_class_name is deprecated. Please use find_element(by=By.CLASS_NAME, value=name) instead\n",
      "  post_content = driver.find_element_by_class_name(\"entry-content\").text\n"
     ]
    }
   ],
   "source": [
    "for pl in post_links[1:]:\n",
    "    sleep(3)\n",
    "    try:\n",
    "        driver.get(pl)\n",
    "    #     post_content = driver.find_element_by_xpath('//div[@class,\"entry-content\"]').text\n",
    "        post_content = driver.find_element_by_class_name(\"entry-content\").text\n",
    "        post_title = pl.split('/')[-2]\n",
    "\n",
    "        file2write=open(name+'\\\\'+post_title+\".txt\",'w')\n",
    "        file2write.write(remove_wierd_chars(post_content))\n",
    "        file2write.close() \n",
    "    except:\n",
    "        print(pl)"
   ]
  },
  {
   "cell_type": "markdown",
   "id": "2d796b69",
   "metadata": {},
   "source": [
    "## \"What's_new\""
   ]
  },
  {
   "cell_type": "code",
   "execution_count": 316,
   "id": "0501dd74",
   "metadata": {},
   "outputs": [],
   "source": [
    "url = df['blog_url'][3]\n",
    "name = df['blog_name'][3].replace(' ','_')\n",
    "driver = webdriver.Firefox()\n",
    "driver.get(url)\n",
    "sleep(2)"
   ]
  },
  {
   "cell_type": "code",
   "execution_count": 305,
   "id": "391f609a",
   "metadata": {},
   "outputs": [
    {
     "name": "stderr",
     "output_type": "stream",
     "text": [
      "C:\\Users\\jandr\\AppData\\Local\\Temp\\ipykernel_9964\\1568653550.py:3: DeprecationWarning: find_elements_by_xpath is deprecated. Please use find_elements(by=By.XPATH, value=xpath) instead\n",
      "  post_header_selectors = driver.find_elements_by_xpath('//h2[@class=\"post-title\"]//a')\n",
      "C:\\Users\\jandr\\AppData\\Local\\Temp\\ipykernel_9964\\1568653550.py:11: DeprecationWarning: find_element_by_* commands are deprecated. Please use find_element() instead\n",
      "  driver.find_element_by_id(\"infinite-handle\").find_element_by_xpath('//button').click()\n"
     ]
    }
   ],
   "source": [
    "post_links = []\n",
    "for i in range(10):\n",
    "    post_header_selectors = driver.find_elements_by_xpath('//h2[@class=\"post-title\"]//a')\n",
    "    post_links.extend([phs.get_attribute('href') for phs in post_header_selectors])\n",
    "    sleep(3)\n",
    "    driver.execute_script(\"window.scrollTo(0, document.body.scrollHeight)\")\n",
    "    driver.execute_script(\"window.scrollTo(0, document.body.scrollHeight)\")\n",
    "    sleep(3)\n",
    "    driver.execute_script(\"window.scrollTo(0, document.body.scrollHeight)\") \n",
    "    try:\n",
    "        driver.find_element_by_id(\"infinite-handle\").find_element_by_xpath('//button').click()\n",
    "    except:\n",
    "        0"
   ]
  },
  {
   "cell_type": "code",
   "execution_count": 310,
   "id": "1f5af01c",
   "metadata": {},
   "outputs": [],
   "source": [
    "post_links = list(OrderedDict.fromkeys(post_links))\n",
    "save_post_links(post_links, name)\n",
    "os.mkdir(name)"
   ]
  },
  {
   "cell_type": "code",
   "execution_count": 317,
   "id": "c2fe6abf",
   "metadata": {},
   "outputs": [
    {
     "name": "stderr",
     "output_type": "stream",
     "text": [
      "C:\\Users\\jandr\\AppData\\Local\\Temp\\ipykernel_9964\\1611345891.py:5: DeprecationWarning: find_element_by_class_name is deprecated. Please use find_element(by=By.CLASS_NAME, value=name) instead\n",
      "  post_content = driver.find_element_by_class_name(\"post-content\" ).text\n"
     ]
    }
   ],
   "source": [
    "for pl in post_links[10:]:\n",
    "    sleep(3)\n",
    "    try:\n",
    "        driver.get(pl)\n",
    "        post_content = driver.find_element_by_class_name(\"post-content\" ).text\n",
    "        post_title = pl.split('/')[-2]\n",
    "\n",
    "        file2write=open(name+'\\\\'+post_title+\".txt\",'w')\n",
    "        file2write.write(remove_wierd_chars(post_content))\n",
    "        file2write.close()\n",
    "    except:\n",
    "        print(pl)"
   ]
  },
  {
   "cell_type": "markdown",
   "id": "ce61690b",
   "metadata": {},
   "source": [
    "# Text analysis"
   ]
  },
  {
   "cell_type": "code",
   "execution_count": 18,
   "id": "3cfe506c",
   "metadata": {},
   "outputs": [],
   "source": [
    "import nltk\n",
    "from nltk.tokenize import word_tokenize\n",
    "from nltk.tokenize import sent_tokenize\n",
    "from nltk.stem import WordNetLemmatizer\n",
    "from collections import Counter\n",
    "\n",
    "import os"
   ]
  },
  {
   "cell_type": "code",
   "execution_count": 69,
   "id": "4a1383e0",
   "metadata": {},
   "outputs": [],
   "source": [
    "def read_post(file):\n",
    "    with open(file_dir+file) as f:\n",
    "        lines = f.readlines()\n",
    "        return ' '.join(lines).replace('\\n','')\n",
    "def get_number_of_chars(files):\n",
    "    return [len(read_post(f)) for f in files]  \n",
    "def get_number_of_words(files):\n",
    "    return [len([t for t in word_tokenize(read_post(f)) if (t.lower() not in engstopwords) and (len(t) > 1 )]) for f in files ]"
   ]
  },
  {
   "cell_type": "code",
   "execution_count": 71,
   "id": "af68c56f",
   "metadata": {},
   "outputs": [],
   "source": [
    "file_dir = 'scrape_text\\\\Stephen_Wolfram_Blog\\\\'\n",
    "files = os.listdir(file_dir);\n",
    "number_of_chars = get_number_of_chars(files)\n",
    "number_of_words = get_number_of_words(files)"
   ]
  },
  {
   "cell_type": "code",
   "execution_count": 76,
   "id": "01f87fc0",
   "metadata": {},
   "outputs": [],
   "source": [
    "def make_hist_post_len(char_lens,s):\n",
    "    fig, ax = plt.subplots(nrows=1,ncols=1)\n",
    "    ax.set_title(\"Histogram of post lengths ({})\".format(s));\n",
    "    ax.set_xlabel(\"Number of {} per post\".format(s));\n",
    "    ax.set_ylabel(\"Count\");\n",
    "    ax.hist(char_lens,label=\"A\",bins=20,histtype=\"step\")"
   ]
  },
  {
   "cell_type": "code",
   "execution_count": 77,
   "id": "de44cdd0",
   "metadata": {},
   "outputs": [
    {
     "data": {
      "image/png": "[encoded data removed]",
      "text/plain": [
       "<Figure size 432x288 with 1 Axes>"
      ]
     },
     "metadata": {
      "needs_background": "light"
     },
     "output_type": "display_data"
    }
   ],
   "source": [
    "make_hist_post_len(char_lens,'characters')"
   ]
  },
  {
   "cell_type": "code",
   "execution_count": 79,
   "id": "00c209ef",
   "metadata": {},
   "outputs": [
    {
     "data": {
      "image/png": "[encoded data removed]",
      "text/plain": [
       "<Figure size 432x288 with 1 Axes>"
      ]
     },
     "metadata": {
      "needs_background": "light"
     },
     "output_type": "display_data"
    }
   ],
   "source": [
    "make_hist_post_len(number_of_words,'words')"
   ]
  },
  {
   "cell_type": "code",
   "execution_count": 56,
   "id": "fb424894",
   "metadata": {},
   "outputs": [],
   "source": [
    "from wordcloud import WordCloud"
   ]
  },
  {
   "cell_type": "code",
   "execution_count": 102,
   "id": "6710f8b1",
   "metadata": {},
   "outputs": [],
   "source": [
    " with open('scrape_text//rand.txt','r',encoding='utf-8-sig') as f:\n",
    "        lines = f.readlines()\n",
    "        text_m = ' '.join(lines).replace('\\n','')"
   ]
  },
  {
   "cell_type": "code",
   "execution_count": 111,
   "id": "b0181157",
   "metadata": {},
   "outputs": [],
   "source": [
    "words = word_tokenize(text_m)\n",
    "lemmatized = [wordnet_lemmatizer.lemmatize(t.lower()) for t in words if (t.lower() not in engstopwords) and (len(t) > 1)]"
   ]
  },
  {
   "cell_type": "code",
   "execution_count": 116,
   "id": "1cf650de",
   "metadata": {},
   "outputs": [
    {
     "data": {
      "image/png": "[encoded data removed]",
      "text/plain": [
       "<Figure size 432x288 with 1 Axes>"
      ]
     },
     "metadata": {
      "needs_background": "light"
     },
     "output_type": "display_data"
    }
   ],
   "source": [
    "fig, axes = plt.subplots(1, 1)\n",
    "\n",
    "text = ' '.join(lemmatized)\n",
    "x, y = np.ogrid[:300, :300]\n",
    "mask = (x - 150) ** 2 + (y - 150) ** 2 > 130 ** 2\n",
    "mask = 255 * mask.astype(int)\n",
    "\n",
    "wc = WordCloud(background_color=\"black\",\n",
    "               repeat=True,\n",
    "               mask=mask)\n",
    "wc.generate(text)\n",
    "\n",
    "plt.axis(\"off\")\n",
    "plt.imshow(wc, interpolation=\"bilinear\")\n",
    "plt.show()\n",
    "fig.savefig('word cloud.jpg', bbox_inches='tight', dpi=250)"
   ]
  }
 ],
 "metadata": {
  "kernelspec": {
   "display_name": "Python 3 (ipykernel)",
   "language": "python",
   "name": "python3"
  },
  "language_info": {
   "codemirror_mode": {
    "name": "ipython",
    "version": 3
   },
   "file_extension": ".py",
   "mimetype": "text/x-python",
   "name": "python",
   "nbconvert_exporter": "python",
   "pygments_lexer": "ipython3",
   "version": "3.8.13"
  }
 },
 "nbformat": 4,
 "nbformat_minor": 5
}
