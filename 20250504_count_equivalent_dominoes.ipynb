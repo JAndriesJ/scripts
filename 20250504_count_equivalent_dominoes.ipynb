{
 "cells": [
  {
   "cell_type": "code",
   "execution_count": 15,
   "id": "b52de1bc",
   "metadata": {},
   "outputs": [],
   "source": [
    "import math\n",
    "def slow_num_equiv_domino_pairs(D: list[list[int]]) -> int:\n",
    "    _D = [tuple(sorted(d)) for d in D]\n",
    "    C = {\n",
    "        d : _D.count(d)\n",
    "        for d in set(_D)\n",
    "    }\n",
    "    return sum([math.comb(v,2) for v in C.values() if v > 1])\n",
    "\n",
    "\n",
    "def fast_num_equiv_domino_pairs(D: list[list[int]]) -> int:\n",
    "    seen = [0] * 100\n",
    "    equal_pairs = 0\n",
    "    for a, b in D:\n",
    "        val = a * 10 + b if a <= b else b * 10 + a\n",
    "        equal_pairs += seen[val]\n",
    "        seen[val] += 1\n",
    "    return equal_pairs"
   ]
  },
  {
   "cell_type": "code",
   "execution_count": 16,
   "id": "35392925",
   "metadata": {},
   "outputs": [
    {
     "data": {
      "text/plain": [
       "3"
      ]
     },
     "execution_count": 16,
     "metadata": {},
     "output_type": "execute_result"
    }
   ],
   "source": [
    "fast_num_equiv_domino_pairs(\n",
    "    D=[[1,2],[1,2],[1,1],[1,2],[2,2]]\n",
    ")"
   ]
  },
  {
   "cell_type": "code",
   "execution_count": 17,
   "id": "8f7d5c5e",
   "metadata": {},
   "outputs": [
    {
     "data": {
      "text/plain": [
       "1"
      ]
     },
     "execution_count": 17,
     "metadata": {},
     "output_type": "execute_result"
    }
   ],
   "source": [
    "fast_num_equiv_domino_pairs(\n",
    "    D=[[1,2],[2,1],[3,4],[5,6]]\n",
    ")"
   ]
  }
 ],
 "metadata": {
  "kernelspec": {
   "display_name": "base",
   "language": "python",
   "name": "python3"
  },
  "language_info": {
   "codemirror_mode": {
    "name": "ipython",
    "version": 3
   },
   "file_extension": ".py",
   "mimetype": "text/x-python",
   "name": "python",
   "nbconvert_exporter": "python",
   "pygments_lexer": "ipython3",
   "version": "3.12.7"
  }
 },
 "nbformat": 4,
 "nbformat_minor": 5
}
