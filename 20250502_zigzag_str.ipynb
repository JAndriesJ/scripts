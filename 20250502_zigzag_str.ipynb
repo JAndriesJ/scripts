{
 "cells": [
  {
   "cell_type": "code",
   "execution_count": 16,
   "id": "eab66167",
   "metadata": {},
   "outputs": [
    {
     "data": {
      "text/plain": [
       "True"
      ]
     },
     "execution_count": 16,
     "metadata": {},
     "output_type": "execute_result"
    }
   ],
   "source": [
    "def convert(S: str, numRows: int) -> str:\n",
    "    n = len(S)\n",
    "    if (n < 2) or (n < numRows):\n",
    "        return S\n",
    "    rows = [\"\"] * numRows\n",
    "\n",
    "    cr = 0\n",
    "    step = 1\n",
    "    for s in S:\n",
    "        rows[cr] += s\n",
    "        cr += step\n",
    "        if cr == numRows - 1:\n",
    "            step = -1\n",
    "        if cr == 0:\n",
    "            step = 1\n",
    "\n",
    "    return \"\".join(rows)\n",
    "\n",
    "convert(S=\"PAYPALISHIRING\", numRows=3) == \"PAHNAPLSIIGYIR\""
   ]
  }
 ],
 "metadata": {
  "kernelspec": {
   "display_name": "base",
   "language": "python",
   "name": "python3"
  },
  "language_info": {
   "codemirror_mode": {
    "name": "ipython",
    "version": 3
   },
   "file_extension": ".py",
   "mimetype": "text/x-python",
   "name": "python",
   "nbconvert_exporter": "python",
   "pygments_lexer": "ipython3",
   "version": "3.12.7"
  }
 },
 "nbformat": 4,
 "nbformat_minor": 5
}
